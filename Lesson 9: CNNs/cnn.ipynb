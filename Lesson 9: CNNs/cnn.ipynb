{
 "cells": [
  {
   "cell_type": "markdown",
   "metadata": {},
   "source": [
    "## Convolutional Neural Networks in PyTorch"
   ]
  },
  {
   "cell_type": "markdown",
   "metadata": {
    "vscode": {
     "languageId": "plaintext"
    }
   },
   "source": [
    "**Contents**\n",
    "1. Getting data using Torchvision\n",
    "2. Creating a CNN in PyTorch\n",
    "3. Training our Network"
   ]
  },
  {
   "cell_type": "markdown",
   "metadata": {},
   "source": [
    "### Setup and Installations"
   ]
  },
  {
   "cell_type": "code",
   "execution_count": 1,
   "metadata": {},
   "outputs": [
    {
     "name": "stdout",
     "output_type": "stream",
     "text": [
      "Requirement already satisfied: numpy in /home/vish/.pyenv/versions/3.10.14/lib/python3.10/site-packages (1.26.4)\n",
      "Requirement already satisfied: pandas in /home/vish/.pyenv/versions/3.10.14/lib/python3.10/site-packages (2.0.3)\n",
      "Requirement already satisfied: torch in /home/vish/.pyenv/versions/3.10.14/lib/python3.10/site-packages (2.3.1)\n",
      "Requirement already satisfied: torchvision in /home/vish/.pyenv/versions/3.10.14/lib/python3.10/site-packages (0.18.1)\n",
      "Requirement already satisfied: pillow in /home/vish/.pyenv/versions/3.10.14/lib/python3.10/site-packages (10.3.0)\n",
      "Requirement already satisfied: python-dateutil>=2.8.2 in /home/vish/.pyenv/versions/3.10.14/lib/python3.10/site-packages (from pandas) (2.9.0.post0)\n",
      "Requirement already satisfied: pytz>=2020.1 in /home/vish/.pyenv/versions/3.10.14/lib/python3.10/site-packages (from pandas) (2024.1)\n",
      "Requirement already satisfied: tzdata>=2022.1 in /home/vish/.pyenv/versions/3.10.14/lib/python3.10/site-packages (from pandas) (2024.1)\n",
      "Requirement already satisfied: filelock in /home/vish/.pyenv/versions/3.10.14/lib/python3.10/site-packages (from torch) (3.13.3)\n",
      "Requirement already satisfied: typing-extensions>=4.8.0 in /home/vish/.pyenv/versions/3.10.14/lib/python3.10/site-packages (from torch) (4.11.0)\n",
      "Requirement already satisfied: sympy in /home/vish/.pyenv/versions/3.10.14/lib/python3.10/site-packages (from torch) (1.12)\n",
      "Requirement already satisfied: networkx in /home/vish/.pyenv/versions/3.10.14/lib/python3.10/site-packages (from torch) (3.3)\n",
      "Requirement already satisfied: jinja2 in /home/vish/.pyenv/versions/3.10.14/lib/python3.10/site-packages (from torch) (3.1.3)\n",
      "Requirement already satisfied: fsspec in /home/vish/.pyenv/versions/3.10.14/lib/python3.10/site-packages (from torch) (2023.10.0)\n",
      "Requirement already satisfied: nvidia-cuda-nvrtc-cu12==12.1.105 in /home/vish/.pyenv/versions/3.10.14/lib/python3.10/site-packages (from torch) (12.1.105)\n",
      "Requirement already satisfied: nvidia-cuda-runtime-cu12==12.1.105 in /home/vish/.pyenv/versions/3.10.14/lib/python3.10/site-packages (from torch) (12.1.105)\n",
      "Requirement already satisfied: nvidia-cuda-cupti-cu12==12.1.105 in /home/vish/.pyenv/versions/3.10.14/lib/python3.10/site-packages (from torch) (12.1.105)\n",
      "Requirement already satisfied: nvidia-cudnn-cu12==8.9.2.26 in /home/vish/.pyenv/versions/3.10.14/lib/python3.10/site-packages (from torch) (8.9.2.26)\n",
      "Requirement already satisfied: nvidia-cublas-cu12==12.1.3.1 in /home/vish/.pyenv/versions/3.10.14/lib/python3.10/site-packages (from torch) (12.1.3.1)\n",
      "Requirement already satisfied: nvidia-cufft-cu12==11.0.2.54 in /home/vish/.pyenv/versions/3.10.14/lib/python3.10/site-packages (from torch) (11.0.2.54)\n",
      "Requirement already satisfied: nvidia-curand-cu12==10.3.2.106 in /home/vish/.pyenv/versions/3.10.14/lib/python3.10/site-packages (from torch) (10.3.2.106)\n",
      "Requirement already satisfied: nvidia-cusolver-cu12==11.4.5.107 in /home/vish/.pyenv/versions/3.10.14/lib/python3.10/site-packages (from torch) (11.4.5.107)\n",
      "Requirement already satisfied: nvidia-cusparse-cu12==12.1.0.106 in /home/vish/.pyenv/versions/3.10.14/lib/python3.10/site-packages (from torch) (12.1.0.106)\n",
      "Requirement already satisfied: nvidia-nccl-cu12==2.20.5 in /home/vish/.pyenv/versions/3.10.14/lib/python3.10/site-packages (from torch) (2.20.5)\n",
      "Requirement already satisfied: nvidia-nvtx-cu12==12.1.105 in /home/vish/.pyenv/versions/3.10.14/lib/python3.10/site-packages (from torch) (12.1.105)\n",
      "Requirement already satisfied: triton==2.3.1 in /home/vish/.pyenv/versions/3.10.14/lib/python3.10/site-packages (from torch) (2.3.1)\n",
      "Requirement already satisfied: nvidia-nvjitlink-cu12 in /home/vish/.pyenv/versions/3.10.14/lib/python3.10/site-packages (from nvidia-cusolver-cu12==11.4.5.107->torch) (12.4.127)\n",
      "Requirement already satisfied: six>=1.5 in /home/vish/.pyenv/versions/3.10.14/lib/python3.10/site-packages (from python-dateutil>=2.8.2->pandas) (1.16.0)\n",
      "Requirement already satisfied: MarkupSafe>=2.0 in /home/vish/.pyenv/versions/3.10.14/lib/python3.10/site-packages (from jinja2->torch) (2.1.5)\n",
      "Requirement already satisfied: mpmath>=0.19 in /home/vish/.pyenv/versions/3.10.14/lib/python3.10/site-packages (from sympy->torch) (1.3.0)\n",
      "\n",
      "\u001b[1m[\u001b[0m\u001b[34;49mnotice\u001b[0m\u001b[1;39;49m]\u001b[0m\u001b[39;49m A new release of pip is available: \u001b[0m\u001b[31;49m24.0\u001b[0m\u001b[39;49m -> \u001b[0m\u001b[32;49m24.2\u001b[0m\n",
      "\u001b[1m[\u001b[0m\u001b[34;49mnotice\u001b[0m\u001b[1;39;49m]\u001b[0m\u001b[39;49m To update, run: \u001b[0m\u001b[32;49mpip install --upgrade pip\u001b[0m\n"
     ]
    }
   ],
   "source": [
    "!pip install numpy pandas torch torchvision pillow"
   ]
  },
  {
   "cell_type": "markdown",
   "metadata": {},
   "source": [
    "### Getting Data with Torchvision"
   ]
  },
  {
   "cell_type": "code",
   "execution_count": 2,
   "metadata": {},
   "outputs": [],
   "source": [
    "# make a directory to store MNIST images\n",
    "import os\n",
    "\n",
    "os.makedirs(\"./data\", exist_ok=True)\n"
   ]
  },
  {
   "cell_type": "code",
   "execution_count": 3,
   "metadata": {},
   "outputs": [],
   "source": [
    "from torchvision.datasets import MNIST\n",
    "\n",
    "train_data = MNIST(\"./data\", train=True, download=True)"
   ]
  },
  {
   "cell_type": "code",
   "execution_count": 20,
   "metadata": {},
   "outputs": [
    {
     "data": {
      "image/jpeg": "[encoded data removed]",
      "image/png": "[encoded data removed]",
      "text/plain": [
       "<PIL.Image.Image image mode=L size=28x28>"
      ]
     },
     "execution_count": 20,
     "metadata": {},
     "output_type": "execute_result"
    }
   ],
   "source": [
    "# check our data\n",
    "from PIL import Image\n",
    "import matplotlib.pyplot as plt\n",
    "\n",
    "data_item = train_data[0]\n",
    "\n",
    "img = data_item[0]\n",
    "target = data_item[1]\n",
    "\n",
    "img"
   ]
  },
  {
   "cell_type": "code",
   "execution_count": 5,
   "metadata": {},
   "outputs": [
    {
     "data": {
      "text/plain": [
       "1    6742\n",
       "7    6265\n",
       "3    6131\n",
       "2    5958\n",
       "9    5949\n",
       "0    5923\n",
       "6    5918\n",
       "8    5851\n",
       "4    5842\n",
       "5    5421\n",
       "Name: count, dtype: int64"
      ]
     },
     "execution_count": 5,
     "metadata": {},
     "output_type": "execute_result"
    }
   ],
   "source": [
    "from pandas import Series\n",
    "\n",
    "targets = Series([item[1] for item in train_data])\n",
    "\n",
    "targets.value_counts()"
   ]
  },
  {
   "cell_type": "markdown",
   "metadata": {},
   "source": [
    "### Creating a CNN in PyTorch"
   ]
  },
  {
   "cell_type": "markdown",
   "metadata": {},
   "source": [
    "We are creating the `LeNet` architecture, which was one of the first proposed convolution neural network architectures. It consists of the following blocks:\n",
    "\n",
    "- 2 conv blocks: 5x5 Convolution -> ReLU -> 2x2 pooling\n",
    "- A feedforward classifier: linear layer -> ReLU -> linear layer -> Softmax\n",
    "\n",
    "**Note:** we will not use batch normalization here, but you can add it after each pooling layer using `nn.BatchNorm2d` in PyTorch"
   ]
  },
  {
   "cell_type": "markdown",
   "metadata": {},
   "source": [
    "**Overview of Softmax:**\n",
    "\n",
    "We use softmax when predicting probabilities of different classifiers. The softmax function takes a vector as input and normalizes it such that all values in the vector sum to 1 (which is useful for classification probabilities)"
   ]
  },
  {
   "cell_type": "code",
   "execution_count": 6,
   "metadata": {},
   "outputs": [],
   "source": [
    "# imports\n",
    "\n",
    "import torch\n",
    "from torch import nn, Tensor\n",
    "import torch.nn.functional as F"
   ]
  },
  {
   "cell_type": "code",
   "execution_count": 7,
   "metadata": {},
   "outputs": [
    {
     "data": {
      "text/plain": [
       "tensor([0.7945, 9.4883, 1.9454, 1.7363, 7.4249])"
      ]
     },
     "execution_count": 7,
     "metadata": {},
     "output_type": "execute_result"
    }
   ],
   "source": [
    "# testing softmax\n",
    "v = torch.rand(5) * 10\n",
    "v"
   ]
  },
  {
   "cell_type": "code",
   "execution_count": 8,
   "metadata": {},
   "outputs": [
    {
     "data": {
      "text/plain": [
       "tensor([1.4858e-04, 8.8640e-01, 4.6964e-04, 3.8104e-04, 1.1260e-01])"
      ]
     },
     "execution_count": 8,
     "metadata": {},
     "output_type": "execute_result"
    }
   ],
   "source": [
    "# softmax\n",
    "\n",
    "v_sf = F.softmax(v, dim=-1) # on the last dimension, required for softmax due to updates\n",
    "v_sf"
   ]
  },
  {
   "cell_type": "code",
   "execution_count": 9,
   "metadata": {},
   "outputs": [
    {
     "data": {
      "text/plain": [
       "tensor(1.0000)"
      ]
     },
     "execution_count": 9,
     "metadata": {},
     "output_type": "execute_result"
    }
   ],
   "source": [
    "torch.sum(v_sf)"
   ]
  },
  {
   "cell_type": "markdown",
   "metadata": {},
   "source": [
    "**Building our Network in PyTorch**"
   ]
  },
  {
   "cell_type": "markdown",
   "metadata": {},
   "source": [
    "To build our network in PyTorch, we're going to need a few building blocks:\n",
    "\n",
    "- `nn.Conv2d(in_channels, out_channels, kernel_size, padding, stride)` - the base convolution operator. The in and out channels determines how deep the model is. We start with three channels (3), but we usually scale to 64/128 channels. LeNet uses a kernel size of 5x5, which requires a padding of 2 to keep the output the same size\n",
    "- `nn.MaxPool2d(kernel_size, stride)` - the base pooling architecture. Max pooling has shown the best performance of all algorithms. We go across in 2x2 tiles and skip intermediate sections to get information from all sections individually\n",
    "- `nn.ReLU()` - the relu activation function. We can use this as a module or the function version (`nn.functional.relu()`)\n",
    "- `nn.Linear(in_dimensions, out_dimensions)` - a linear layer that we will use at the end of the convolution feature extractors\n",
    "- `nn.Softmax(dimension)` - the softmax function, but as a module instead of the functional version (`nn.functional.softmax()`)"
   ]
  },
  {
   "cell_type": "code",
   "execution_count": 36,
   "metadata": {},
   "outputs": [],
   "source": [
    "# creating our PyTorch network\n",
    "\n",
    "class LeNet(nn.Module):\n",
    "    def __init__(self, n_channels: int, n_classes: int) -> None:\n",
    "        super().__init__()\n",
    "        \n",
    "        # create our first set of convolution layers\n",
    "        self.conv1 = nn.Conv2d(in_channels=n_channels, out_channels=20, kernel_size=(5, 5)) # 5x5 kernel that takes the input channels and goes to 20 channels\n",
    "        self.pool1 = nn.MaxPool2d(kernel_size=(2, 2), stride=(2, 2)) # the stride allows us to skip intermediates, so we select every unique 2x2 grid\n",
    "        \n",
    "        # create our second set of convolution layers\n",
    "        self.conv2 = nn.Conv2d(in_channels=20, out_channels=50, kernel_size=(5, 5)) # create more channels for more features to extract\n",
    "        self.pool2 = nn.MaxPool2d(kernel_size=(2, 2), stride=(2, 2))\n",
    "        \n",
    "        # create our linear layers for classification\n",
    "        self.linear1 = nn.Linear(in_features=800, out_features=500) # the number of in_features is calculated based on the flattened output of all images across all 50 channels after processing\n",
    "        self.linear2 = nn.Linear(in_features=500, out_features=n_classes) # the class predictor\n",
    "        # self.softmax = nn.Softmax(dim=-1) # -1 selects the last dimension\n",
    "        \n",
    "    def forward(self, image: Tensor) -> Tensor:\n",
    "        # run the first convolution\n",
    "        out = self.conv1(image)\n",
    "        out = F.relu(out)\n",
    "        out = self.pool1(out)\n",
    "        \n",
    "        # run the second convolution\n",
    "        out = self.conv2(out)\n",
    "        out = F.relu(out)\n",
    "        out = self.pool1(out)\n",
    "        \n",
    "        # flatten the set of images in format B x C x H x W\n",
    "        out = torch.flatten(out, -3, -1)\n",
    "        \n",
    "        # run the feedforward network\n",
    "        out = self.linear1(out)\n",
    "        out = F.relu(out)\n",
    "        out = self.linear2(out)\n",
    "        \n",
    "        return out\n",
    "        # return self.softmax(out)"
   ]
  },
  {
   "cell_type": "markdown",
   "metadata": {},
   "source": [
    "### Exploring Our Data"
   ]
  },
  {
   "cell_type": "code",
   "execution_count": 19,
   "metadata": {},
   "outputs": [
    {
     "data": {
      "image/jpeg": "[encoded data removed]",
      "image/png": "[encoded data removed]",
      "text/plain": [
       "<PIL.Image.Image image mode=L size=28x28>"
      ]
     },
     "execution_count": 19,
     "metadata": {},
     "output_type": "execute_result"
    }
   ],
   "source": [
    "train_data[0][0]"
   ]
  },
  {
   "cell_type": "code",
   "execution_count": 14,
   "metadata": {},
   "outputs": [
    {
     "data": {
      "text/plain": [
       "(28, 28)"
      ]
     },
     "execution_count": 14,
     "metadata": {},
     "output_type": "execute_result"
    }
   ],
   "source": [
    "from numpy import asarray\n",
    "\n",
    "asarray(train_data[0][0]).shape"
   ]
  },
  {
   "cell_type": "code",
   "execution_count": 18,
   "metadata": {},
   "outputs": [
    {
     "data": {
      "text/plain": [
       "array([  0,   0,   0,   0,   0,   0,   0,   0,   0,   0,   0,   0,   0,\n",
       "        81, 240, 253, 253, 119,  25,   0,   0,   0,   0,   0,   0,   0,\n",
       "         0,   0], dtype=uint8)"
      ]
     },
     "execution_count": 18,
     "metadata": {},
     "output_type": "execute_result"
    }
   ],
   "source": [
    "asarray(train_data[0][0])[14]"
   ]
  },
  {
   "cell_type": "markdown",
   "metadata": {},
   "source": [
    "**Some Notes on our Data Representation:**\n",
    "- Each input image is 28 by 28 pixels, with a SINGLE channel (no RGB, only black/white)\n",
    "- We need to create a custom dataloader to batch these images together into *PyTorch* tensors\n",
    "  - We'll have to convert from `PIL.Image` to `torch.Tensor`\n",
    "- We also need to scale our data so that the pixel values are between 0 and 1 (makes it easier to traverse)\n",
    "- We can do this using the `torchvision.transforms` package\n",
    "  - `torchvision.transforms.ToTensor()` - converts PIL to tensor\n",
    "  - `torchvision.transforms.Normalizea()` - normalizes our image data\n",
    "  - `torchvision.transforms.Compose()` - allows us to combine multiple transforms into a single one with optimization"
   ]
  },
  {
   "cell_type": "code",
   "execution_count": 22,
   "metadata": {},
   "outputs": [],
   "source": [
    "# here is our transform code\n",
    "from torchvision import transforms\n",
    "\n",
    "transform = transforms.Compose([\n",
    "    transforms.ToTensor(),\n",
    "    transforms.Normalize((0.1307,), (0.3081,))\n",
    "])"
   ]
  },
  {
   "cell_type": "code",
   "execution_count": 23,
   "metadata": {},
   "outputs": [],
   "source": [
    "# create new datasets from torchvision using the transforms\n",
    "\n",
    "train_data = MNIST(\"data\", train=True, transform=transform)\n",
    "test_data = MNIST(\"data\", train=True, transform=transform)"
   ]
  },
  {
   "cell_type": "code",
   "execution_count": 24,
   "metadata": {},
   "outputs": [
    {
     "name": "stdout",
     "output_type": "stream",
     "text": [
      "train size:  60000\n",
      "test size:  60000\n"
     ]
    }
   ],
   "source": [
    "print(\"train size: \", len(train_data))\n",
    "print(\"test size: \", len(test_data))"
   ]
  },
  {
   "cell_type": "markdown",
   "metadata": {},
   "source": [
    "### Training Our Model"
   ]
  },
  {
   "cell_type": "markdown",
   "metadata": {},
   "source": [
    "**Some things we need to consider:**\n",
    "- *Loss function:* since this is a classification problem, we will use cross entropy (NOTE: cross entropy runs a softmax function internally, so we don't need to include it in our network)\n",
    "- *Optimizer:* the Adam optimizer is the standard for image learning, so we will use that\n",
    "- Some hyperparameters to consider:\n",
    "  - number of epochs - we will run 10 epochs, but you can play around with this value if you want\n",
    "  - learning rate - we will use a learning rate of `0.01`\n",
    "  - batch size - allows us to train multiple samples in parallel. We will train 64 samples at once for high speeds (low this if your computer starts to slow down)"
   ]
  },
  {
   "cell_type": "markdown",
   "metadata": {},
   "source": [
    "**Validation Data:**\n",
    "- When we're training, your training loss usually decreases. However, it doesn't mean that your model is getting better\n",
    "  - Your model could be overoptimizing or overfitting to your training data, or you might have an error in your training loop\n",
    "- To prevent this, we introduce validation data: every few batches of training data, we evaluate the model on the test set (which it has not seen before)\n",
    "  - This allows us to see how the model learns a general representation over time, not just memorizing training data\n",
    "  - In our case, we'll run our validation step after every **epoch is completed**"
   ]
  },
  {
   "cell_type": "code",
   "execution_count": 39,
   "metadata": {},
   "outputs": [],
   "source": [
    "# let's write our training loop!\n",
    "from torch.utils.data import DataLoader\n",
    "from tqdm import tqdm\n",
    "\n",
    "\n",
    "NUMBER_OF_EPOCHS = 10\n",
    "BATCH_SIZE = 64\n",
    "LEARNING_RATE = 0.002\n",
    "\n",
    "def train(model: LeNet, train_data: MNIST, val_data: MNIST):\n",
    "    # setup loss function and optimizers\n",
    "    loss_function = nn.CrossEntropyLoss()\n",
    "    optimizer = torch.optim.Adam(model.parameters(), lr=LEARNING_RATE)\n",
    "    \n",
    "    # setting up lists of losses to save in logs\n",
    "    train_losses = []\n",
    "    validation_losses = []\n",
    "    \n",
    "    # start our main loop\n",
    "    for n in range(NUMBER_OF_EPOCHS):\n",
    "        # create dataloader\n",
    "        loader = DataLoader(train_data, batch_size=BATCH_SIZE, shuffle=True)\n",
    "        \n",
    "        \n",
    "        for index, item in tqdm(enumerate(loader), desc=f\"Training epoch {n}\", total=len(train_data)//BATCH_SIZE):\n",
    "            optimizer.zero_grad() # reset optimizer\n",
    "            inputs, target = item\n",
    "            \n",
    "            output = model(inputs)\n",
    "            \n",
    "            # compute loss\n",
    "            loss = loss_function(output, target)\n",
    "            loss.backward()\n",
    "            \n",
    "            train_losses.append(loss.item())\n",
    "            \n",
    "            optimizer.step()\n",
    "        \n",
    "        # create the validation dataloader\n",
    "        val_loader = DataLoader(val_data, batch_size=BATCH_SIZE, shuffle=True)\n",
    "        \n",
    "        # run the validation loop\n",
    "        with torch.no_grad(): # disables gradient computation, because this is just for evaluation purposes\n",
    "            losses = []\n",
    "            for index, item in tqdm(enumerate(val_loader), desc=f\"Evaluation epoch {n}\", total=len(train_data)//BATCH_SIZE):\n",
    "                inputs, target = item\n",
    "                \n",
    "                output = model(inputs)\n",
    "                \n",
    "                # compute loss\n",
    "                loss = loss_function(output, target)\n",
    "                losses.append(loss.item())\n",
    "            \n",
    "            average_validation_loss = torch.mean(torch.as_tensor(losses)) # take the average of losses across all batches\n",
    "            validation_losses.append(average_validation_loss.item()) # append to the list of losses to log later\n",
    "    \n",
    "    return model, train_losses, validation_losses\n"
   ]
  },
  {
   "cell_type": "code",
   "execution_count": 40,
   "metadata": {},
   "outputs": [],
   "source": [
    "# run our training loop\n",
    "\n",
    "model = LeNet(n_channels=1, n_classes=10)"
   ]
  },
  {
   "cell_type": "code",
   "execution_count": 42,
   "metadata": {},
   "outputs": [
    {
     "name": "stderr",
     "output_type": "stream",
     "text": [
      "Training epoch 0: 938it [00:16, 57.02it/s]                         \n",
      "Evaluation epoch 0: 938it [00:10, 93.11it/s]                         \n",
      "Training epoch 1: 938it [00:16, 56.79it/s]                         \n",
      "Evaluation epoch 1: 938it [00:10, 92.72it/s]                         \n",
      "Training epoch 2: 938it [00:16, 56.59it/s]                         \n",
      "Evaluation epoch 2: 938it [00:10, 92.86it/s]                         \n",
      "Training epoch 3: 938it [00:16, 56.60it/s]                         \n",
      "Evaluation epoch 3: 938it [00:10, 92.33it/s]                         \n",
      "Training epoch 4: 938it [00:16, 56.61it/s]                         \n",
      "Evaluation epoch 4: 938it [00:10, 92.32it/s]                         \n",
      "Training epoch 5: 938it [00:16, 57.15it/s]                         \n",
      "Evaluation epoch 5: 938it [00:10, 92.55it/s]                         \n",
      "Training epoch 6: 938it [00:16, 56.53it/s]                         \n",
      "Evaluation epoch 6: 938it [00:10, 91.48it/s]                         \n",
      "Training epoch 7: 938it [00:16, 57.03it/s]                         \n",
      "Evaluation epoch 7: 938it [00:10, 92.39it/s]                         \n",
      "Training epoch 8: 938it [00:16, 57.26it/s]                         \n",
      "Evaluation epoch 8: 938it [00:10, 92.98it/s]                         \n",
      "Training epoch 9: 938it [00:16, 55.63it/s]                         \n",
      "Evaluation epoch 9: 938it [00:10, 88.91it/s]                         \n"
     ]
    }
   ],
   "source": [
    "model, train_loss_out, val_loss_out = train(model, train_data, test_data)"
   ]
  },
  {
   "cell_type": "code",
   "execution_count": 44,
   "metadata": {},
   "outputs": [
    {
     "data": {
      "text/plain": [
       "[<matplotlib.lines.Line2D at 0x7fd0bb9dc550>]"
      ]
     },
     "execution_count": 44,
     "metadata": {},
     "output_type": "execute_result"
    },
    {
     "data": {
      "image/png": "[encoded data removed]",
      "text/plain": [
       "<Figure size 640x480 with 1 Axes>"
      ]
     },
     "metadata": {},
     "output_type": "display_data"
    }
   ],
   "source": [
    "# let's see our loss outputs\n",
    "\n",
    "plt.plot(val_loss_out)"
   ]
  },
  {
   "cell_type": "markdown",
   "metadata": {},
   "source": [
    "### Evaluating Our Model"
   ]
  },
  {
   "cell_type": "markdown",
   "metadata": {},
   "source": [
    "Here, we'll set up a similar evaluation loop and use a confusion matrix and classification report to compare outputs"
   ]
  },
  {
   "cell_type": "code",
   "execution_count": 49,
   "metadata": {},
   "outputs": [],
   "source": [
    "# The evaluation loop\n",
    "\n",
    "def predict(model: LeNet, testing_data):\n",
    "    # create the validation dataloader\n",
    "    val_loader = DataLoader(testing_data, batch_size=BATCH_SIZE, shuffle=True)\n",
    "    y_pred = []\n",
    "    \n",
    "    # run the validation loop\n",
    "    with torch.no_grad(): # disables gradient computation, because this is just for evaluation purposes\n",
    "        for index, item in tqdm(enumerate(val_loader), desc=f\"Predictions!\", total=len(train_data)//BATCH_SIZE):\n",
    "            inputs, target = item\n",
    "            output = model(inputs)\n",
    "            logits = torch.argmax(output, dim=-1).tolist()\n",
    "            y_pred += logits            \n",
    "    \n",
    "    return y_pred"
   ]
  },
  {
   "cell_type": "code",
   "execution_count": 50,
   "metadata": {},
   "outputs": [
    {
     "name": "stderr",
     "output_type": "stream",
     "text": [
      "Predictions!: 938it [00:10, 91.43it/s]                         \n"
     ]
    }
   ],
   "source": [
    "y_pred = predict(model, test_data)"
   ]
  },
  {
   "cell_type": "code",
   "execution_count": 51,
   "metadata": {},
   "outputs": [
    {
     "data": {
      "text/plain": [
       "60000"
      ]
     },
     "execution_count": 51,
     "metadata": {},
     "output_type": "execute_result"
    }
   ],
   "source": [
    "len(y_pred)"
   ]
  },
  {
   "cell_type": "code",
   "execution_count": 52,
   "metadata": {},
   "outputs": [],
   "source": [
    "y_target = [item[1] for item in test_data]"
   ]
  },
  {
   "cell_type": "code",
   "execution_count": 54,
   "metadata": {},
   "outputs": [
    {
     "data": {
      "text/plain": [
       "60000"
      ]
     },
     "execution_count": 54,
     "metadata": {},
     "output_type": "execute_result"
    }
   ],
   "source": [
    "len(y_target)"
   ]
  },
  {
   "cell_type": "code",
   "execution_count": 57,
   "metadata": {},
   "outputs": [],
   "source": [
    "# metrics with sklearn\n",
    "from sklearn.metrics import confusion_matrix, classification_report\n",
    "import seaborn as sns"
   ]
  },
  {
   "cell_type": "code",
   "execution_count": 58,
   "metadata": {},
   "outputs": [
    {
     "data": {
      "text/plain": [
       "<Axes: >"
      ]
     },
     "execution_count": 58,
     "metadata": {},
     "output_type": "execute_result"
    },
    {
     "data": {
      "image/png": "[encoded data removed]",
      "text/plain": [
       "<Figure size 640x480 with 2 Axes>"
      ]
     },
     "metadata": {},
     "output_type": "display_data"
    }
   ],
   "source": [
    "cm = confusion_matrix(y_pred, y_target)\n",
    "sns.heatmap(cm)"
   ]
  },
  {
   "cell_type": "code",
   "execution_count": 59,
   "metadata": {},
   "outputs": [
    {
     "name": "stdout",
     "output_type": "stream",
     "text": [
      "              precision    recall  f1-score   support\n",
      "\n",
      "           0       0.10      0.10      0.10      5844\n",
      "           1       0.12      0.12      0.12      7082\n",
      "           2       0.09      0.10      0.09      5632\n",
      "           3       0.10      0.10      0.10      6206\n",
      "           4       0.10      0.10      0.10      5958\n",
      "           5       0.09      0.09      0.09      5512\n",
      "           6       0.10      0.10      0.10      5840\n",
      "           7       0.11      0.10      0.11      6726\n",
      "           8       0.09      0.10      0.10      5469\n",
      "           9       0.09      0.10      0.09      5731\n",
      "\n",
      "    accuracy                           0.10     60000\n",
      "   macro avg       0.10      0.10      0.10     60000\n",
      "weighted avg       0.10      0.10      0.10     60000\n",
      "\n"
     ]
    }
   ],
   "source": [
    "print(classification_report(y_pred, y_target))"
   ]
  },
  {
   "cell_type": "code",
   "execution_count": null,
   "metadata": {},
   "outputs": [],
   "source": []
  }
 ],
 "metadata": {
  "kernelspec": {
   "display_name": "Python 3",
   "language": "python",
   "name": "python3"
  },
  "language_info": {
   "codemirror_mode": {
    "name": "ipython",
    "version": 3
   },
   "file_extension": ".py",
   "mimetype": "text/x-python",
   "name": "python",
   "nbconvert_exporter": "python",
   "pygments_lexer": "ipython3",
   "version": "3.10.14"
  }
 },
 "nbformat": 4,
 "nbformat_minor": 2
}
